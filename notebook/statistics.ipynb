{
 "cells": [
  {
   "cell_type": "code",
   "execution_count": null,
   "metadata": {
    "collapsed": true
   },
   "outputs": [],
   "source": [
    "%matplotlib inline\n",
    "# -*- coding: utf-8 -*-\n",
    "import matplotlib\n",
    "import matplotlib.pyplot as plt\n",
    "import os\n",
    "import pandas as pd\n",
    "from redminelib import Redmine\n",
    "\n",
    "environ_value = dict(os.environ)\n",
    "\n",
    "# Validate the REDMINE_* before\n",
    "redmine_url = environ_value['REDMINE_URL']\n",
    "redmine_username = environ_value['REDMINE_USERNAME']\n",
    "redmine_password = environ_value['REDMINE_PASSWORD']\n",
    "project_name = 'biz_req'\n",
    "redmine = Redmine(redmine_url, username=redmine_username,\n",
    "                  password=redmine_password)\n",
    "issues = redmine.issue.filter(status_id='*', project_id=project_name)\n",
    "data = []\n",
    "\n",
    "for i in issues:\n",
    "    l = [\n",
    "#         i.attachments.total_count,\n",
    "         i.author.name,\n",
    "#         i.changesets,\n",
    "#         i.children,\n",
    "         i.created_on.strftime('%Y-%m-%d'),\n",
    "         i.description,\n",
    "#         i.done_ratio,\n",
    "         i.id,\n",
    "#         i.journals,\n",
    "         i.priority.name,\n",
    "         i.project.name,\n",
    "#         i.relations,\n",
    "#         i.start_date,\n",
    "         i.status.name,\n",
    "         i.subject,\n",
    "#         i.time_entries,\n",
    "         i.tracker.name,\n",
    "         i.updated_on.strftime('%Y-%m-%d'),\n",
    "#         i.watchers\n",
    "     ]\n",
    "    if hasattr(i,'custom_fields') and i.custom_fields.get(42) is not None:\n",
    "        l.append(i.custom_fields.get(42).value)\n",
    "    else:\n",
    "        l.append('')\n",
    "    if hasattr(i,'custom_fields') and i.custom_fields.get(24) is not None:\n",
    "        l.append(i.custom_fields.get(24).value)\n",
    "    else:\n",
    "        l.append('')\n",
    "    data.append(l)\n",
    "\n",
    "dp = pd.DataFrame(data,\n",
    "                  columns=['author', 'created_on',\n",
    "                           'description', 'id',\n",
    "                           'priority', 'project', 'status', 'subject',\n",
    "                           'tracker', 'updated_on', 'module','version'])"
   ]
  },
  {
   "cell_type": "code",
   "execution_count": null,
   "metadata": {
    "collapsed": true
   },
   "outputs": [],
   "source": [
    "# Status by datetime\n",
    "\n",
    "dp_1 = dp[dp.tracker == u'错误']\n",
    "d = {}\n",
    "for i in redmine.issue_status.all():\n",
    "    dp_tmp = dp_1[dp_1.status == i.name].groupby('created_on').size()\n",
    "    dp_tmp.index = pd.to_datetime(dp_tmp.index)\n",
    "    d[i.name] = dp_tmp\n",
    "\n",
    "total = pd.DataFrame(d)\n",
    "total['2017-8-18':'2017-8-26'].plot.bar(stacked=True)"
   ]
  },
  {
   "cell_type": "code",
   "execution_count": null,
   "metadata": {
    "collapsed": true
   },
   "outputs": [],
   "source": [
    "# Status by custom_field\n",
    "\n",
    "for i in redmine.custom_field.all():\n",
    "    print i.id, i"
   ]
  },
  {
   "cell_type": "code",
   "execution_count": null,
   "metadata": {
    "collapsed": true
   },
   "outputs": [],
   "source": [
    "# 功能模块\n",
    "\n",
    "dp_2 = dp[dp.tracker == u'错误']\n",
    "d = {}\n",
    "for i in redmine.custom_field.all().get(42)['possible_values']:\n",
    "    dp_tmp = dp_2[dp.module == i['value']].groupby('status').size()\n",
    "    d[i['value']] = dp_tmp\n",
    "total = pd.DataFrame(d)\n",
    "total.T.plot.bar(stacked=True)"
   ]
  },
  {
   "cell_type": "code",
   "execution_count": null,
   "metadata": {
    "collapsed": true
   },
   "outputs": [],
   "source": [
    "# 版本信息\n",
    "\n",
    "dp_3 = dp[dp.tracker == u'错误']\n",
    "d = {}\n",
    "for i in redmine.custom_field.all().get(24)['possible_values']:\n",
    "    dp_tmp = dp_3[dp.version == i['value']].groupby('status').size()\n",
    "    d[i['value']] = dp_tmp\n",
    "total = pd.DataFrame(d)\n",
    "total.T.plot.bar(stacked=True)"
   ]
  }
 ],
 "metadata": {
  "kernelspec": {
   "display_name": "Python 2",
   "language": "python",
   "name": "python2"
  },
  "language_info": {
   "codemirror_mode": {
    "name": "ipython",
    "version": 2
   },
   "file_extension": ".py",
   "mimetype": "text/x-python",
   "name": "python",
   "nbconvert_exporter": "python",
   "pygments_lexer": "ipython2",
   "version": "2.7.12"
  }
 },
 "nbformat": 4,
 "nbformat_minor": 2
}
