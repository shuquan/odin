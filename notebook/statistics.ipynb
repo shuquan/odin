{
 "cells": [
  {
   "cell_type": "code",
   "execution_count": null,
   "metadata": {
    "collapsed": true
   },
   "outputs": [],
   "source": [
    "%matplotlib inline\n",
    "# -*- coding: utf-8 -*-\n",
    "import matplotlib\n",
    "import matplotlib.pyplot as plt\n",
    "import os\n",
    "import pandas as pd\n",
    "from redminelib import Redmine\n",
    "\n",
    "environ_value = dict(os.environ)\n",
    "\n",
    "# Validate the REDMINE_* before\n",
    "redmine_url = environ_value['REDMINE_URL']\n",
    "redmine_username = environ_value['REDMINE_USERNAME']\n",
    "redmine_password = environ_value['REDMINE_PASSWORD']\n",
    "project_name = 'biz_req'\n",
    "redmine = Redmine(redmine_url, username=redmine_username,\n",
    "                  password=redmine_password)\n",
    "issues = redmine.issue.filter(status_id='*', project_id=project_name)\n",
    "data = []\n",
    "\n",
    "for i in issues:\n",
    "    data.append([\n",
    "#         i.attachments,\n",
    "         i.author.name,\n",
    "#         i.changesets,\n",
    "#         i.children,\n",
    "         i.created_on.strftime('%Y-%m-%d'),\n",
    "#         i.custom_fields,\n",
    "         i.description,\n",
    "#         i.done_ratio,\n",
    "         i.id,\n",
    "#         i.journals,\n",
    "         i.priority.name,\n",
    "         i.project.name,\n",
    "#         i.relations,\n",
    "#         i.start_date,\n",
    "         i.status.name,\n",
    "         i.subject,\n",
    "#         i.time_entries,\n",
    "         i.tracker.name,\n",
    "         i.updated_on.strftime('%Y-%m-%d'),\n",
    "#         i.watchers\n",
    "     ])\n",
    "\n",
    "dp = pd.DataFrame(data,\n",
    "                  columns=['author', 'created_on', 'description', 'id',\n",
    "                           'priority', 'project', 'status', 'subject',\n",
    "                           'tracker', 'updated_on'])\n"
   ]
  },
  {
   "cell_type": "code",
   "execution_count": null,
   "metadata": {
    "collapsed": true
   },
   "outputs": [],
   "source": [
    "d = {}\n",
    "for i in redmine.issue_status.all():\n",
    "    dp_tmp = dp[dp.status == i.name].groupby('created_on').size()\n",
    "    dp_tmp.index = pd.to_datetime(dp_tmp.index)\n",
    "    d[i.name] = dp_tmp\n",
    "\n",
    "total = pd.DataFrame(d)\n",
    "total['2017-8-18':'2017-8-26'].plot()"
   ]
  }
 ],
 "metadata": {
  "kernelspec": {
   "display_name": "Python 2",
   "language": "python",
   "name": "python2"
  },
  "language_info": {
   "codemirror_mode": {
    "name": "ipython",
    "version": 2
   },
   "file_extension": ".py",
   "mimetype": "text/x-python",
   "name": "python",
   "nbconvert_exporter": "python",
   "pygments_lexer": "ipython2",
   "version": "2.7.12"
  }
 },
 "nbformat": 4,
 "nbformat_minor": 2
}
