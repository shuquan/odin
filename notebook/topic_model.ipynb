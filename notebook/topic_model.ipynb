{
 "cells": [
  {
   "cell_type": "code",
   "execution_count": null,
   "metadata": {
    "collapsed": true
   },
   "outputs": [],
   "source": [
    "# -*- coding: utf-8 -*-\n",
    "import os\n",
    "import pandas as pd\n",
    "from redminelib import Redmine\n",
    "\n",
    "environ_value = dict(os.environ)\n",
    "\n",
    "# Validate the REDMINE_* before\n",
    "redmine_url = environ_value['REDMINE_URL']\n",
    "redmine_username = environ_value['REDMINE_USERNAME']\n",
    "redmine_password = environ_value['REDMINE_PASSWORD']\n",
    "project_name = 'biz_req'\n",
    "redmine = Redmine(redmine_url, username=redmine_username,\n",
    "                  password=redmine_password)\n",
    "project = redmine.project.get(project_name)\n",
    "data = []\n",
    "\n",
    "for i in project.issues:\n",
    "    data.append([\n",
    "#         i.attachments,\n",
    "         i.author.name,\n",
    "#         i.changesets,\n",
    "#         i.children,\n",
    "         i.created_on.isoformat(),\n",
    "#         i.custom_fields,\n",
    "         i.description,\n",
    "#         i.done_ratio,\n",
    "         i.id,\n",
    "#         i.journals,\n",
    "         i.priority.name,\n",
    "         i.project.name,\n",
    "#         i.relations,\n",
    "#         i.start_date,\n",
    "         i.status.name,\n",
    "         i.subject,\n",
    "#         i.time_entries,\n",
    "         i.tracker.name,\n",
    "         i.updated_on.isoformat(),\n",
    "#         i.watchers\n",
    "     ])\n",
    "\n",
    "dp = pd.DataFrame(data,\n",
    "                  columns=['author', 'created time', 'description', 'id',\n",
    "                           'priority', 'project', 'status', 'subject',\n",
    "                           'tracker', 'updated time'])\n",
    "dp.head()"
   ]
  },
  {
   "cell_type": "code",
   "execution_count": null,
   "metadata": {
    "collapsed": true
   },
   "outputs": [],
   "source": [
    "import jieba\n",
    "import pyLDAvis\n",
    "import pyLDAvis.sklearn\n",
    "from sklearn.decomposition import LatentDirichletAllocation\n",
    "from sklearn.feature_extraction.text import TfidfVectorizer, CountVectorizer\n",
    "\n",
    "def chinese_word_cut(mytext):\n",
    "    return \" \".join(jieba.cut(mytext))\n",
    "\n",
    "def print_top_words(model, feature_names, n_top_words):\n",
    "    for topic_idx, topic in enumerate(model.components_):\n",
    "        print(\"Topic #%d:\" % topic_idx)\n",
    "        print(\" \".join([feature_names[i]\n",
    "                        for i in topic.argsort()[:-n_top_words - 1:-1]]))\n",
    "    print()\n",
    "\n",
    "dp[\"content_cutted\"] = dp.description.apply(chinese_word_cut)\n",
    "\n",
    "dp[\"content_cutted\"].head()"
   ]
  },
  {
   "cell_type": "code",
   "execution_count": null,
   "metadata": {
    "collapsed": true
   },
   "outputs": [],
   "source": [
    "tf_vectorizer = CountVectorizer(strip_accents = 'unicode',\n",
    "                            max_features=100,\n",
    "                            stop_words='english',\n",
    "                            max_df = 0.5,\n",
    "                            min_df = 10)\n",
    "tf = tf_vectorizer.fit_transform(dp.content_cutted)\n",
    "\n",
    "lda = LatentDirichletAllocation(n_topics=5, max_iter=50,\n",
    "                            learning_method='online',\n",
    "                            learning_offset=50.,\n",
    "                            random_state=0)\n",
    "\n",
    "lda.fit(tf)\n",
    "\n",
    "n_top_words = 20\n",
    "tf_feature_names = tf_vectorizer.get_feature_names()\n",
    "print_top_words(lda, tf_feature_names, n_top_words)\n",
    "\n",
    "prepare = pyLDAvis.sklearn.prepare(lda, tf, tf_vectorizer)\n",
    "pyLDAvis.display(prepare)"
   ]
  }
 ],
 "metadata": {
  "kernelspec": {
   "display_name": "Python 2",
   "language": "python",
   "name": "python2"
  },
  "language_info": {
   "codemirror_mode": {
    "name": "ipython",
    "version": 2
   },
   "file_extension": ".py",
   "mimetype": "text/x-python",
   "name": "python",
   "nbconvert_exporter": "python",
   "pygments_lexer": "ipython2",
   "version": "2.7.12"
  }
 },
 "nbformat": 4,
 "nbformat_minor": 2
}
