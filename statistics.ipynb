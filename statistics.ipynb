{
 "cells": [
  {
   "cell_type": "code",
   "execution_count": null,
   "metadata": {
    "collapsed": true
   },
   "outputs": [],
   "source": [
    "%matplotlib inline\n",
    "# -*- coding: utf-8 -*-\n",
    "import matplotlib\n",
    "import matplotlib.pyplot as plt\n",
    "import pandas as pd\n",
    "\n",
    "from odin.common import utils\n",
    "\n",
    "project_name = 'biz_req'\n",
    "\n",
    "dp = utils.get_dataframe_by_project_name(project_name)\n",
    "redmine = utils.redmine_connect()"
   ]
  },
  {
   "cell_type": "code",
   "execution_count": null,
   "metadata": {
    "collapsed": true
   },
   "outputs": [],
   "source": [
    "# Status by datetime\n",
    "\n",
    "dp = dp[dp.tracker == u'错误']\n",
    "d = {}\n",
    "for i in redmine.issue_status.all():\n",
    "    dp_tmp = dp[dp.status == i.name].groupby('created_on').size()\n",
    "    dp_tmp.index = pd.to_datetime(dp_tmp.index)\n",
    "    d[i.name] = dp_tmp\n",
    "\n",
    "total = pd.DataFrame(d)\n",
    "total['2017-8-18':'2017-8-26'].plot.bar(stacked=True)"
   ]
  },
  {
   "cell_type": "code",
   "execution_count": null,
   "metadata": {
    "collapsed": true
   },
   "outputs": [],
   "source": [
    "# Get all possible_values of custom_field\n",
    "\n",
    "for i in redmine.custom_field.all().get(42)['possible_values']:\n",
    "    print i['value']\n",
    "\n",
    "for i in redmine.custom_field.all():\n",
    "    print i.id, i"
   ]
  },
  {
   "cell_type": "code",
   "execution_count": null,
   "metadata": {
    "collapsed": true
   },
   "outputs": [],
   "source": [
    "# 功能模块\n",
    "\n",
    "dp = dp[dp.tracker == u'错误']\n",
    "d = {}\n",
    "for i in redmine.custom_field.all().get(42)['possible_values']:\n",
    "    dp_tmp = dp[dp.module == i['value']].groupby('status').size()\n",
    "    d[i['value']] = dp_tmp\n",
    "total = pd.DataFrame(d)\n",
    "total.T.plot.bar(stacked=True)"
   ]
  },
  {
   "cell_type": "code",
   "execution_count": null,
   "metadata": {
    "collapsed": true
   },
   "outputs": [],
   "source": [
    "# 版本信息\n",
    "\n",
    "dp = dp[dp.tracker == u'错误']\n",
    "d = {}\n",
    "for i in redmine.custom_field.all().get(24)['possible_values']:\n",
    "    dp_tmp = dp[dp.version == i['value']].groupby('status').size()\n",
    "    d[i['value']] = dp_tmp\n",
    "total = pd.DataFrame(d)\n",
    "total.T.plot.bar(stacked=True)"
   ]
  }
 ],
 "metadata": {
  "kernelspec": {
   "display_name": "Python 2",
   "language": "python",
   "name": "python2"
  },
  "language_info": {
   "codemirror_mode": {
    "name": "ipython",
    "version": 2
   },
   "file_extension": ".py",
   "mimetype": "text/x-python",
   "name": "python",
   "nbconvert_exporter": "python",
   "pygments_lexer": "ipython2",
   "version": "2.7.12"
  }
 },
 "nbformat": 4,
 "nbformat_minor": 2
}
