{
 "cells": [
  {
   "cell_type": "code",
   "execution_count": null,
   "metadata": {
    "collapsed": true
   },
   "outputs": [],
   "source": [
    "%matplotlib inline\n",
    "# -*- coding: utf-8 -*-\n",
    "import matplotlib\n",
    "import matplotlib.pyplot as plt\n",
    "import pandas as pd\n",
    "\n",
    "from odin.common import utils\n",
    "\n",
    "project_name = 'biz_req'\n",
    "\n",
    "dp = utils.get_dataframe_by_project_name(project_name)\n",
    "redmine = utils.redmine_connect()"
   ]
  },
  {
   "cell_type": "code",
   "execution_count": null,
   "metadata": {
    "collapsed": true
   },
   "outputs": [],
   "source": [
    "\"\"\"\n",
    "Initialize basic DataFrame and set\n",
    "\"\"\"\n",
    "\n",
    "dp_bug = dp[dp.tracker == u'错误']\n",
    "dp_bug.loc[:,'interval'] = dp_bug.updated_on - dp_bug.created_on\n",
    "dp_bug_resovled = dp_bug[dp_bug.status == u'已解决']\n",
    "custom_field_feature_id = utils.get_custom_field_id_by_name(u'功能模块')\n",
    "custom_field_version_id = utils.get_custom_field_id_by_name(u'版本信息')"
   ]
  },
  {
   "cell_type": "code",
   "execution_count": null,
   "metadata": {
    "collapsed": true
   },
   "outputs": [],
   "source": [
    "\"\"\"\n",
    "X: datetime\n",
    "Y: # of issue and show the status composition\n",
    "\"\"\"\n",
    "\n",
    "d = {}\n",
    "for i in redmine.issue_status.all():\n",
    "    dp_tmp = dp_bug[dp_bug.status == i.name].groupby('created_on').size()\n",
    "    d[i.name] = dp_tmp\n",
    "\n",
    "total = pd.DataFrame(d)\n",
    "total['2017-8-18':'2017-8-26'].plot.bar(stacked=True)"
   ]
  },
  {
   "cell_type": "code",
   "execution_count": null,
   "metadata": {
    "collapsed": true
   },
   "outputs": [],
   "source": [
    "\"\"\"\n",
    "X: feature\n",
    "Y: # of issue and show the status composition\n",
    "\"\"\"\n",
    "\n",
    "d = {}\n",
    "for i in redmine.custom_field.all().get(custom_field_feature_id)['possible_values']:\n",
    "    i['value'] = i['value'].strip('-')\n",
    "    dp_tmp = dp_bug[dp_bug.module == i['value']].groupby('status').size()\n",
    "    d[i['value']] = dp_tmp\n",
    "total = pd.DataFrame(d)\n",
    "total.T.plot.bar(stacked=True, figsize=(20, 6))"
   ]
  },
  {
   "cell_type": "code",
   "execution_count": null,
   "metadata": {
    "collapsed": true
   },
   "outputs": [],
   "source": [
    "\"\"\"\n",
    "X: version\n",
    "Y: # of issue and show the status composition\n",
    "\"\"\"\n",
    "\n",
    "d = {}\n",
    "for i in redmine.custom_field.all().get(custom_field_version_id)['possible_values']:\n",
    "    dp_tmp = dp_bug[dp_bug.version == i['value']].groupby('status').size()\n",
    "    d[i['value']] = dp_tmp\n",
    "total = pd.DataFrame(d)\n",
    "total.T.plot.bar(stacked=True)"
   ]
  },
  {
   "cell_type": "code",
   "execution_count": null,
   "metadata": {
    "collapsed": true
   },
   "outputs": [],
   "source": [
    "\"\"\"\n",
    "需求耗费时长:\n",
    "(1)单一需求耗费时长=需求上线时间-需求提出时间\n",
    "(2)需求耗费时长=百分位数（所有单一需求耗费时长，85%）\n",
    "(3)需求耗费时长分布K值：需求耗费时长分布K值反应需求耗费时长的分布特征。为了计算需求耗费时长分布\n",
    "K值，需要先绘制需求耗费时长分布图。分布图是一个柱状图，横轴上X位置柱状高度是需求耗费时长为X天\n",
    "的需求的个数。符合韦伯分布（Weibull Distribution）\n",
    "\"\"\"\n",
    "\n",
    "dp_bug_resovled.groupby('interval').size().plot()\n"
   ]
  },
  {
   "cell_type": "code",
   "execution_count": null,
   "metadata": {
    "collapsed": true
   },
   "outputs": [],
   "source": [
    "\"\"\"\n",
    "X: resovled duration\n",
    "Y: # of issue and show the feature composition\n",
    "\"\"\"\n",
    "\n",
    "d = {}\n",
    "for i in redmine.custom_field.all().get(custom_field_feature_id)['possible_values']:\n",
    "    i['value'] = i['value'].strip('-')\n",
    "    dp_tmp = dp_bug_resovled[dp_bug_resovled.module == i['value']].groupby('interval').size()\n",
    "    d[i['value']] = dp_tmp\n",
    "total = pd.DataFrame(d)\n",
    "total.plot.bar(stacked=True)"
   ]
  },
  {
   "cell_type": "code",
   "execution_count": null,
   "metadata": {
    "collapsed": true
   },
   "outputs": [],
   "source": [
    "\"\"\"\n",
    "X: resovled duration\n",
    "Y: # of issue and show the version composition\n",
    "\"\"\"\n",
    "\n",
    "d = {}\n",
    "for i in redmine.custom_field.all().get(custom_field_version_id)['possible_values']:\n",
    "    dp_tmp = dp_bug_resovled[dp_bug_resovled.version == i['value']].groupby('interval').size()\n",
    "    d[i['value']] = dp_tmp\n",
    "total = pd.DataFrame(d)\n",
    "total.plot.bar(stacked=True)"
   ]
  }
 ],
 "metadata": {
  "kernelspec": {
   "display_name": "Python 2",
   "language": "python",
   "name": "python2"
  },
  "language_info": {
   "codemirror_mode": {
    "name": "ipython",
    "version": 2
   },
   "file_extension": ".py",
   "mimetype": "text/x-python",
   "name": "python",
   "nbconvert_exporter": "python",
   "pygments_lexer": "ipython2",
   "version": "2.7.12"
  }
 },
 "nbformat": 4,
 "nbformat_minor": 2
}
